{
 "cells": [
  {
   "cell_type": "markdown",
   "id": "c0777d72",
   "metadata": {},
   "source": [
    "### Import Packages"
   ]
  },
  {
   "cell_type": "code",
   "execution_count": 1,
   "id": "7ed49b19",
   "metadata": {},
   "outputs": [],
   "source": [
    "import numpy as np\n",
    "import pandas as pd\n",
    "import matplotlib.pyplot as plt\n",
    "%matplotlib inline\n",
    "import seaborn as sns\n",
    "from sklearn.cluster import KMeans\n",
    "from mpl_toolkits.mplot3d import Axes3D"
   ]
  },
  {
   "cell_type": "markdown",
   "id": "6185a231",
   "metadata": {},
   "source": [
    "### Import Data"
   ]
  },
  {
   "cell_type": "code",
   "execution_count": 3,
   "id": "87f055a6",
   "metadata": {},
   "outputs": [
    {
     "data": {
      "text/html": [
       "<div>\n",
       "<style scoped>\n",
       "    .dataframe tbody tr th:only-of-type {\n",
       "        vertical-align: middle;\n",
       "    }\n",
       "\n",
       "    .dataframe tbody tr th {\n",
       "        vertical-align: top;\n",
       "    }\n",
       "\n",
       "    .dataframe thead th {\n",
       "        text-align: right;\n",
       "    }\n",
       "</style>\n",
       "<table border=\"1\" class=\"dataframe\">\n",
       "  <thead>\n",
       "    <tr style=\"text-align: right;\">\n",
       "      <th></th>\n",
       "      <th>CustomerID</th>\n",
       "      <th>Gender</th>\n",
       "      <th>Age</th>\n",
       "      <th>Annual Income (k$)</th>\n",
       "      <th>Spending Score (1-100)</th>\n",
       "    </tr>\n",
       "  </thead>\n",
       "  <tbody>\n",
       "    <tr>\n",
       "      <th>0</th>\n",
       "      <td>1</td>\n",
       "      <td>Male</td>\n",
       "      <td>19</td>\n",
       "      <td>15</td>\n",
       "      <td>39</td>\n",
       "    </tr>\n",
       "    <tr>\n",
       "      <th>1</th>\n",
       "      <td>2</td>\n",
       "      <td>Male</td>\n",
       "      <td>21</td>\n",
       "      <td>15</td>\n",
       "      <td>81</td>\n",
       "    </tr>\n",
       "    <tr>\n",
       "      <th>2</th>\n",
       "      <td>3</td>\n",
       "      <td>Female</td>\n",
       "      <td>20</td>\n",
       "      <td>16</td>\n",
       "      <td>6</td>\n",
       "    </tr>\n",
       "    <tr>\n",
       "      <th>3</th>\n",
       "      <td>4</td>\n",
       "      <td>Female</td>\n",
       "      <td>23</td>\n",
       "      <td>16</td>\n",
       "      <td>77</td>\n",
       "    </tr>\n",
       "    <tr>\n",
       "      <th>4</th>\n",
       "      <td>5</td>\n",
       "      <td>Female</td>\n",
       "      <td>31</td>\n",
       "      <td>17</td>\n",
       "      <td>40</td>\n",
       "    </tr>\n",
       "  </tbody>\n",
       "</table>\n",
       "</div>"
      ],
      "text/plain": [
       "   CustomerID  Gender  Age  Annual Income (k$)  Spending Score (1-100)\n",
       "0           1    Male   19                  15                      39\n",
       "1           2    Male   21                  15                      81\n",
       "2           3  Female   20                  16                       6\n",
       "3           4  Female   23                  16                      77\n",
       "4           5  Female   31                  17                      40"
      ]
     },
     "execution_count": 3,
     "metadata": {},
     "output_type": "execute_result"
    }
   ],
   "source": [
    "clients = pd.read_csv('C:/Users/Joy/Desktop/clientsegmentation.csv')\n",
    "clients.head()"
   ]
  },
  {
   "cell_type": "markdown",
   "id": "594a7874",
   "metadata": {},
   "source": [
    "# Data Wrangling"
   ]
  },
  {
   "cell_type": "markdown",
   "id": "b08eca46",
   "metadata": {},
   "source": [
    "### Recode Gender"
   ]
  },
  {
   "cell_type": "code",
   "execution_count": 4,
   "id": "228cbe08",
   "metadata": {},
   "outputs": [
    {
     "data": {
      "text/html": [
       "<div>\n",
       "<style scoped>\n",
       "    .dataframe tbody tr th:only-of-type {\n",
       "        vertical-align: middle;\n",
       "    }\n",
       "\n",
       "    .dataframe tbody tr th {\n",
       "        vertical-align: top;\n",
       "    }\n",
       "\n",
       "    .dataframe thead th {\n",
       "        text-align: right;\n",
       "    }\n",
       "</style>\n",
       "<table border=\"1\" class=\"dataframe\">\n",
       "  <thead>\n",
       "    <tr style=\"text-align: right;\">\n",
       "      <th></th>\n",
       "      <th>CustomerID</th>\n",
       "      <th>Gender</th>\n",
       "      <th>Age</th>\n",
       "      <th>Annual Income (k$)</th>\n",
       "      <th>Spending Score (1-100)</th>\n",
       "    </tr>\n",
       "  </thead>\n",
       "  <tbody>\n",
       "    <tr>\n",
       "      <th>0</th>\n",
       "      <td>1</td>\n",
       "      <td>0</td>\n",
       "      <td>19</td>\n",
       "      <td>15</td>\n",
       "      <td>39</td>\n",
       "    </tr>\n",
       "    <tr>\n",
       "      <th>1</th>\n",
       "      <td>2</td>\n",
       "      <td>0</td>\n",
       "      <td>21</td>\n",
       "      <td>15</td>\n",
       "      <td>81</td>\n",
       "    </tr>\n",
       "    <tr>\n",
       "      <th>2</th>\n",
       "      <td>3</td>\n",
       "      <td>1</td>\n",
       "      <td>20</td>\n",
       "      <td>16</td>\n",
       "      <td>6</td>\n",
       "    </tr>\n",
       "    <tr>\n",
       "      <th>3</th>\n",
       "      <td>4</td>\n",
       "      <td>1</td>\n",
       "      <td>23</td>\n",
       "      <td>16</td>\n",
       "      <td>77</td>\n",
       "    </tr>\n",
       "    <tr>\n",
       "      <th>4</th>\n",
       "      <td>5</td>\n",
       "      <td>1</td>\n",
       "      <td>31</td>\n",
       "      <td>17</td>\n",
       "      <td>40</td>\n",
       "    </tr>\n",
       "  </tbody>\n",
       "</table>\n",
       "</div>"
      ],
      "text/plain": [
       "   CustomerID  Gender  Age  Annual Income (k$)  Spending Score (1-100)\n",
       "0           1       0   19                  15                      39\n",
       "1           2       0   21                  15                      81\n",
       "2           3       1   20                  16                       6\n",
       "3           4       1   23                  16                      77\n",
       "4           5       1   31                  17                      40"
      ]
     },
     "execution_count": 4,
     "metadata": {},
     "output_type": "execute_result"
    }
   ],
   "source": [
    "dict = {\"Gender\": {\"Male\": 0, \"Female\": 1}}\n",
    "clients.replace(dict, inplace=True)\n",
    "clients.head()"
   ]
  },
  {
   "cell_type": "markdown",
   "id": "6a1631c4",
   "metadata": {},
   "source": [
    "### Drop columns"
   ]
  },
  {
   "cell_type": "code",
   "execution_count": 5,
   "id": "7f8743a0",
   "metadata": {},
   "outputs": [],
   "source": [
    "clientsTrimmed = clients.drop(['CustomerID'], axis=1)"
   ]
  },
  {
   "cell_type": "code",
   "execution_count": 6,
   "id": "5005bfef",
   "metadata": {},
   "outputs": [
    {
     "data": {
      "text/html": [
       "<div>\n",
       "<style scoped>\n",
       "    .dataframe tbody tr th:only-of-type {\n",
       "        vertical-align: middle;\n",
       "    }\n",
       "\n",
       "    .dataframe tbody tr th {\n",
       "        vertical-align: top;\n",
       "    }\n",
       "\n",
       "    .dataframe thead th {\n",
       "        text-align: right;\n",
       "    }\n",
       "</style>\n",
       "<table border=\"1\" class=\"dataframe\">\n",
       "  <thead>\n",
       "    <tr style=\"text-align: right;\">\n",
       "      <th></th>\n",
       "      <th>Gender</th>\n",
       "      <th>Age</th>\n",
       "      <th>Annual Income (k$)</th>\n",
       "      <th>Spending Score (1-100)</th>\n",
       "    </tr>\n",
       "  </thead>\n",
       "  <tbody>\n",
       "    <tr>\n",
       "      <th>0</th>\n",
       "      <td>0</td>\n",
       "      <td>19</td>\n",
       "      <td>15</td>\n",
       "      <td>39</td>\n",
       "    </tr>\n",
       "    <tr>\n",
       "      <th>1</th>\n",
       "      <td>0</td>\n",
       "      <td>21</td>\n",
       "      <td>15</td>\n",
       "      <td>81</td>\n",
       "    </tr>\n",
       "    <tr>\n",
       "      <th>2</th>\n",
       "      <td>1</td>\n",
       "      <td>20</td>\n",
       "      <td>16</td>\n",
       "      <td>6</td>\n",
       "    </tr>\n",
       "    <tr>\n",
       "      <th>3</th>\n",
       "      <td>1</td>\n",
       "      <td>23</td>\n",
       "      <td>16</td>\n",
       "      <td>77</td>\n",
       "    </tr>\n",
       "    <tr>\n",
       "      <th>4</th>\n",
       "      <td>1</td>\n",
       "      <td>31</td>\n",
       "      <td>17</td>\n",
       "      <td>40</td>\n",
       "    </tr>\n",
       "  </tbody>\n",
       "</table>\n",
       "</div>"
      ],
      "text/plain": [
       "   Gender  Age  Annual Income (k$)  Spending Score (1-100)\n",
       "0       0   19                  15                      39\n",
       "1       0   21                  15                      81\n",
       "2       1   20                  16                       6\n",
       "3       1   23                  16                      77\n",
       "4       1   31                  17                      40"
      ]
     },
     "execution_count": 6,
     "metadata": {},
     "output_type": "execute_result"
    }
   ],
   "source": [
    "clientsTrimmed.head()"
   ]
  },
  {
   "cell_type": "markdown",
   "id": "625a8f12",
   "metadata": {},
   "source": [
    "# k-Means Analysis"
   ]
  },
  {
   "cell_type": "code",
   "execution_count": 7,
   "id": "799be300",
   "metadata": {},
   "outputs": [
    {
     "data": {
      "text/plain": [
       "KMeans(n_clusters=3)"
      ]
     },
     "execution_count": 7,
     "metadata": {},
     "output_type": "execute_result"
    }
   ],
   "source": [
    "kmeans = KMeans(n_clusters=3)\n",
    "kmeans.fit(clientsTrimmed)"
   ]
  },
  {
   "cell_type": "code",
   "execution_count": 27,
   "id": "b53b98bf",
   "metadata": {},
   "outputs": [
    {
     "data": {
      "text/plain": [
       "<matplotlib.collections.PathCollection at 0x1eb3346dca0>"
      ]
     },
     "execution_count": 27,
     "metadata": {},
     "output_type": "execute_result"
    },
    {
     "data": {
      "image/png": "[encoded data removed]",
      "text/plain": [
       "<Figure size 720x432 with 1 Axes>"
      ]
     },
     "metadata": {
      "needs_background": "light"
     },
     "output_type": "display_data"
    }
   ],
   "source": [
    "plt.figure(figsize=(10,6))\n",
    "plt.title('K Means')\n",
    "plt.xlabel('Age')\n",
    "plt.ylabel('Annual Income (k$)')\n",
    "plt.scatter(clientsTrimmed['Age'], clientsTrimmed['Annual Income (k$)'], \n",
    "            c=kmeans.labels_, cmap='gist_rainbow')"
   ]
  },
  {
   "cell_type": "markdown",
   "id": "1c785724",
   "metadata": {},
   "source": [
    "#### We're looking at Age and Income. \n",
    "Result shows that there is some overlap with pink and green. \n",
    "There is an age division right around the age of 40."
   ]
  },
  {
   "cell_type": "code",
   "execution_count": 28,
   "id": "ccddcd1d",
   "metadata": {},
   "outputs": [
    {
     "data": {
      "text/plain": [
       "<matplotlib.collections.PathCollection at 0x1eb334d0a90>"
      ]
     },
     "execution_count": 28,
     "metadata": {},
     "output_type": "execute_result"
    },
    {
     "data": {
      "image/png": "[encoded data removed]",
      "text/plain": [
       "<Figure size 720x432 with 1 Axes>"
      ]
     },
     "metadata": {
      "needs_background": "light"
     },
     "output_type": "display_data"
    }
   ],
   "source": [
    "plt.figure(figsize=(10,6))\n",
    "plt.title('K Means')\n",
    "plt.xlabel('Age')\n",
    "plt.ylabel('Spending Score (1-100)')\n",
    "plt.scatter(clientsTrimmed['Age'], clientsTrimmed['Spending Score (1-100)'], \n",
    "            c=kmeans.labels_, cmap='gist_rainbow')"
   ]
  },
  {
   "cell_type": "markdown",
   "id": "9b79fcab",
   "metadata": {},
   "source": [
    "#### We're looking at Age and Spending Score. \n",
    "Result shows that there is some overlap with red and pink, red and green.  \n",
    "Across the age range 0-40 you can have a high Spending Score. \n",
    "Age 40 is about when Spending Scores drop from high to average and low."
   ]
  },
  {
   "cell_type": "code",
   "execution_count": 29,
   "id": "20a6c83c",
   "metadata": {},
   "outputs": [
    {
     "data": {
      "text/plain": [
       "<matplotlib.collections.PathCollection at 0x1eb335292b0>"
      ]
     },
     "execution_count": 29,
     "metadata": {},
     "output_type": "execute_result"
    },
    {
     "data": {
      "image/png": "[encoded data removed]",
      "text/plain": [
       "<Figure size 720x432 with 1 Axes>"
      ]
     },
     "metadata": {
      "needs_background": "light"
     },
     "output_type": "display_data"
    }
   ],
   "source": [
    "plt.figure(figsize=(10,6))\n",
    "plt.title('K Means')\n",
    "plt.xlabel('Annual Income (k$)')\n",
    "plt.ylabel('Spending Score (1-100)')\n",
    "plt.scatter(clientsTrimmed['Annual Income (k$)'], \n",
    "            clientsTrimmed['Spending Score (1-100)'], \n",
    "            c=kmeans.labels_, cmap='gist_rainbow')"
   ]
  },
  {
   "cell_type": "markdown",
   "id": "945bb815",
   "metadata": {},
   "source": [
    "#### We're looking at Annual Income and Spending Score. \n",
    "Result shows that there is no overlap, but a lot of Mid level spenders."
   ]
  },
  {
   "cell_type": "markdown",
   "id": "9fa7f812",
   "metadata": {},
   "source": [
    "## Add labels to the Dataset"
   ]
  },
  {
   "cell_type": "code",
   "execution_count": 30,
   "id": "9548eac2",
   "metadata": {},
   "outputs": [],
   "source": [
    "clientsTrimmed['Category'] = kmeans.labels_"
   ]
  },
  {
   "cell_type": "code",
   "execution_count": 31,
   "id": "90d5f952",
   "metadata": {},
   "outputs": [
    {
     "data": {
      "text/html": [
       "<div>\n",
       "<style scoped>\n",
       "    .dataframe tbody tr th:only-of-type {\n",
       "        vertical-align: middle;\n",
       "    }\n",
       "\n",
       "    .dataframe tbody tr th {\n",
       "        vertical-align: top;\n",
       "    }\n",
       "\n",
       "    .dataframe thead th {\n",
       "        text-align: right;\n",
       "    }\n",
       "</style>\n",
       "<table border=\"1\" class=\"dataframe\">\n",
       "  <thead>\n",
       "    <tr style=\"text-align: right;\">\n",
       "      <th></th>\n",
       "      <th>Gender</th>\n",
       "      <th>Age</th>\n",
       "      <th>Annual Income (k$)</th>\n",
       "      <th>Spending Score (1-100)</th>\n",
       "      <th>Category</th>\n",
       "    </tr>\n",
       "  </thead>\n",
       "  <tbody>\n",
       "    <tr>\n",
       "      <th>0</th>\n",
       "      <td>0</td>\n",
       "      <td>19</td>\n",
       "      <td>15</td>\n",
       "      <td>39</td>\n",
       "      <td>1</td>\n",
       "    </tr>\n",
       "    <tr>\n",
       "      <th>1</th>\n",
       "      <td>0</td>\n",
       "      <td>21</td>\n",
       "      <td>15</td>\n",
       "      <td>81</td>\n",
       "      <td>1</td>\n",
       "    </tr>\n",
       "    <tr>\n",
       "      <th>2</th>\n",
       "      <td>1</td>\n",
       "      <td>20</td>\n",
       "      <td>16</td>\n",
       "      <td>6</td>\n",
       "      <td>1</td>\n",
       "    </tr>\n",
       "    <tr>\n",
       "      <th>3</th>\n",
       "      <td>1</td>\n",
       "      <td>23</td>\n",
       "      <td>16</td>\n",
       "      <td>77</td>\n",
       "      <td>1</td>\n",
       "    </tr>\n",
       "    <tr>\n",
       "      <th>4</th>\n",
       "      <td>1</td>\n",
       "      <td>31</td>\n",
       "      <td>17</td>\n",
       "      <td>40</td>\n",
       "      <td>1</td>\n",
       "    </tr>\n",
       "  </tbody>\n",
       "</table>\n",
       "</div>"
      ],
      "text/plain": [
       "   Gender  Age  Annual Income (k$)  Spending Score (1-100)  Category\n",
       "0       0   19                  15                      39         1\n",
       "1       0   21                  15                      81         1\n",
       "2       1   20                  16                       6         1\n",
       "3       1   23                  16                      77         1\n",
       "4       1   31                  17                      40         1"
      ]
     },
     "execution_count": 31,
     "metadata": {},
     "output_type": "execute_result"
    }
   ],
   "source": [
    "clientsTrimmed.head()"
   ]
  },
  {
   "cell_type": "markdown",
   "id": "29729bd6",
   "metadata": {},
   "source": [
    "## Investigate Means by Category"
   ]
  },
  {
   "cell_type": "code",
   "execution_count": 32,
   "id": "4c0e303e",
   "metadata": {},
   "outputs": [
    {
     "data": {
      "text/plain": [
       "Category\n",
       "0    32.692308\n",
       "1    40.325203\n",
       "2    40.394737\n",
       "Name: Age, dtype: float64"
      ]
     },
     "execution_count": 32,
     "metadata": {},
     "output_type": "execute_result"
    }
   ],
   "source": [
    "clientsTrimmed.groupby('Category')['Age'].mean()"
   ]
  },
  {
   "cell_type": "code",
   "execution_count": 33,
   "id": "c8f361bb",
   "metadata": {},
   "outputs": [
    {
     "data": {
      "text/plain": [
       "Category\n",
       "0    86.538462\n",
       "1    44.154472\n",
       "2    87.000000\n",
       "Name: Annual Income (k$), dtype: float64"
      ]
     },
     "execution_count": 33,
     "metadata": {},
     "output_type": "execute_result"
    }
   ],
   "source": [
    "clientsTrimmed.groupby('Category')['Annual Income (k$)'].mean()"
   ]
  },
  {
   "cell_type": "code",
   "execution_count": 34,
   "id": "902874c8",
   "metadata": {},
   "outputs": [
    {
     "data": {
      "text/plain": [
       "Category\n",
       "0    82.128205\n",
       "1    49.829268\n",
       "2    18.631579\n",
       "Name: Spending Score (1-100), dtype: float64"
      ]
     },
     "execution_count": 34,
     "metadata": {},
     "output_type": "execute_result"
    }
   ],
   "source": [
    "clientsTrimmed.groupby('Category')['Spending Score (1-100)'].mean()"
   ]
  },
  {
   "cell_type": "markdown",
   "id": "ec361d13",
   "metadata": {},
   "source": [
    "### To summarize\n",
    "### Category 0, has a mean age 32, higher annual income 86k and very high spending score, 82/100.  \n",
    "### Category 1, has a mean age 40, Annual Income 44k and averge spending score, 49/100.  \n",
    "### Category 2: has a mean age 40, Annual Income 87k and a very low spending score 18/100."
   ]
  },
  {
   "cell_type": "markdown",
   "id": "81d9e5a4",
   "metadata": {},
   "source": [
    "### For comparison, lets find the average of all variables across each cluster:"
   ]
  },
  {
   "cell_type": "code",
   "execution_count": 21,
   "id": "3bcd979b",
   "metadata": {},
   "outputs": [
    {
     "data": {
      "text/html": [
       "<div>\n",
       "<style scoped>\n",
       "    .dataframe tbody tr th:only-of-type {\n",
       "        vertical-align: middle;\n",
       "    }\n",
       "\n",
       "    .dataframe tbody tr th {\n",
       "        vertical-align: top;\n",
       "    }\n",
       "\n",
       "    .dataframe thead th {\n",
       "        text-align: right;\n",
       "    }\n",
       "</style>\n",
       "<table border=\"1\" class=\"dataframe\">\n",
       "  <thead>\n",
       "    <tr style=\"text-align: right;\">\n",
       "      <th></th>\n",
       "      <th>Category</th>\n",
       "      <th>Gender</th>\n",
       "      <th>Age</th>\n",
       "      <th>Annual Income (k$)</th>\n",
       "      <th>Spending Score (1-100)</th>\n",
       "    </tr>\n",
       "  </thead>\n",
       "  <tbody>\n",
       "    <tr>\n",
       "      <th>0</th>\n",
       "      <td>0</td>\n",
       "      <td>0.538462</td>\n",
       "      <td>32.692308</td>\n",
       "      <td>86.538462</td>\n",
       "      <td>82.128205</td>\n",
       "    </tr>\n",
       "    <tr>\n",
       "      <th>1</th>\n",
       "      <td>1</td>\n",
       "      <td>0.593496</td>\n",
       "      <td>40.325203</td>\n",
       "      <td>44.154472</td>\n",
       "      <td>49.829268</td>\n",
       "    </tr>\n",
       "    <tr>\n",
       "      <th>2</th>\n",
       "      <td>2</td>\n",
       "      <td>0.473684</td>\n",
       "      <td>40.394737</td>\n",
       "      <td>87.000000</td>\n",
       "      <td>18.631579</td>\n",
       "    </tr>\n",
       "  </tbody>\n",
       "</table>\n",
       "</div>"
      ],
      "text/plain": [
       "   Category    Gender        Age  Annual Income (k$)  Spending Score (1-100)\n",
       "0         0  0.538462  32.692308           86.538462               82.128205\n",
       "1         1  0.593496  40.325203           44.154472               49.829268\n",
       "2         2  0.473684  40.394737           87.000000               18.631579"
      ]
     },
     "execution_count": 21,
     "metadata": {},
     "output_type": "execute_result"
    }
   ],
   "source": [
    "avg_df = clientsTrimmed.groupby(['Category'], as_index=False).mean()\n",
    "avg_df.head()"
   ]
  },
  {
   "cell_type": "markdown",
   "id": "36c23854",
   "metadata": {},
   "source": [
    "## Spending Score vs Annual Income vs Age"
   ]
  },
  {
   "cell_type": "code",
   "execution_count": 22,
   "id": "69afb01d",
   "metadata": {},
   "outputs": [
    {
     "data": {
      "text/plain": [
       "<AxesSubplot:xlabel='Category', ylabel='Age'>"
      ]
     },
     "execution_count": 22,
     "metadata": {},
     "output_type": "execute_result"
    },
    {
     "data": {
      "image/png": "[encoded data removed]",
      "text/plain": [
       "<Figure size 432x288 with 1 Axes>"
      ]
     },
     "metadata": {
      "needs_background": "light"
     },
     "output_type": "display_data"
    }
   ],
   "source": [
    "sns.barplot(x='Category',y='Age', data=avg_df)"
   ]
  },
  {
   "cell_type": "code",
   "execution_count": 23,
   "id": "19d163f6",
   "metadata": {},
   "outputs": [
    {
     "data": {
      "text/plain": [
       "<AxesSubplot:xlabel='Category', ylabel='Annual Income (k$)'>"
      ]
     },
     "execution_count": 23,
     "metadata": {},
     "output_type": "execute_result"
    },
    {
     "data": {
      "image/png": "[encoded data removed]",
      "text/plain": [
       "<Figure size 432x288 with 1 Axes>"
      ]
     },
     "metadata": {
      "needs_background": "light"
     },
     "output_type": "display_data"
    }
   ],
   "source": [
    "sns.barplot(x='Category',y='Annual Income (k$)',data=avg_df)"
   ]
  },
  {
   "cell_type": "code",
   "execution_count": 24,
   "id": "3b9fa3e9",
   "metadata": {},
   "outputs": [
    {
     "data": {
      "text/plain": [
       "<AxesSubplot:xlabel='Category', ylabel='Spending Score (1-100)'>"
      ]
     },
     "execution_count": 24,
     "metadata": {},
     "output_type": "execute_result"
    },
    {
     "data": {
      "image/png": "[encoded data removed]",
      "text/plain": [
       "<Figure size 432x288 with 1 Axes>"
      ]
     },
     "metadata": {
      "needs_background": "light"
     },
     "output_type": "display_data"
    }
   ],
   "source": [
    "sns.barplot(x='Category',y='Spending Score (1-100)',data=avg_df)"
   ]
  },
  {
   "cell_type": "markdown",
   "id": "3a4ace28",
   "metadata": {},
   "source": [
    "## Gender Breakdown"
   ]
  },
  {
   "cell_type": "code",
   "execution_count": 26,
   "id": "c1a1d224",
   "metadata": {},
   "outputs": [
    {
     "data": {
      "text/html": [
       "<div>\n",
       "<style scoped>\n",
       "    .dataframe tbody tr th:only-of-type {\n",
       "        vertical-align: middle;\n",
       "    }\n",
       "\n",
       "    .dataframe tbody tr th {\n",
       "        vertical-align: top;\n",
       "    }\n",
       "\n",
       "    .dataframe thead th {\n",
       "        text-align: right;\n",
       "    }\n",
       "</style>\n",
       "<table border=\"1\" class=\"dataframe\">\n",
       "  <thead>\n",
       "    <tr style=\"text-align: right;\">\n",
       "      <th></th>\n",
       "      <th></th>\n",
       "      <th>Gender</th>\n",
       "    </tr>\n",
       "    <tr>\n",
       "      <th>Category</th>\n",
       "      <th>Gender</th>\n",
       "      <th></th>\n",
       "    </tr>\n",
       "  </thead>\n",
       "  <tbody>\n",
       "    <tr>\n",
       "      <th rowspan=\"2\" valign=\"top\">0</th>\n",
       "      <th>0</th>\n",
       "      <td>18</td>\n",
       "    </tr>\n",
       "    <tr>\n",
       "      <th>1</th>\n",
       "      <td>21</td>\n",
       "    </tr>\n",
       "    <tr>\n",
       "      <th rowspan=\"2\" valign=\"top\">1</th>\n",
       "      <th>0</th>\n",
       "      <td>50</td>\n",
       "    </tr>\n",
       "    <tr>\n",
       "      <th>1</th>\n",
       "      <td>73</td>\n",
       "    </tr>\n",
       "    <tr>\n",
       "      <th>2</th>\n",
       "      <th>0</th>\n",
       "      <td>20</td>\n",
       "    </tr>\n",
       "  </tbody>\n",
       "</table>\n",
       "</div>"
      ],
      "text/plain": [
       "                 Gender\n",
       "Category Gender        \n",
       "0        0           18\n",
       "         1           21\n",
       "1        0           50\n",
       "         1           73\n",
       "2        0           20"
      ]
     },
     "execution_count": 26,
     "metadata": {},
     "output_type": "execute_result"
    }
   ],
   "source": [
    "df2 = pd.DataFrame(clientsTrimmed.groupby(['Category','Gender'])['Gender'].count())\n",
    "df2.head()"
   ]
  },
  {
   "cell_type": "markdown",
   "id": "51b372dc",
   "metadata": {},
   "source": [
    "### Main attributes of each segment"
   ]
  },
  {
   "cell_type": "markdown",
   "id": "e8cddc1c",
   "metadata": {},
   "source": [
    "Category 0: \n",
    "\n",
    "Average annual income, average spending score.\n",
    "Mean age is around 40 and gender is predominantly female.\n",
    "\n",
    "Category 1:\n",
    "\n",
    "High average income, low spending score.\n",
    "Mean age is around 40 and gender is predominantly male.\n",
    "\n",
    "Category 2:\n",
    "\n",
    "High average income, high spending score.\n",
    "Mean age is around 32 and gender is split down the middle- female and male.\n"
   ]
  },
  {
   "cell_type": "markdown",
   "id": "1dcb2dc8",
   "metadata": {},
   "source": [
    "### Building personas around each cluster"
   ]
  },
  {
   "cell_type": "markdown",
   "id": "f9e6f03e",
   "metadata": {},
   "source": [
    "Now that we know the attributes of each cluster, we can build personas around them and decide how to market to them.  \n",
    "\n",
    "Category 0: Living Above Means- they make the least amount compared to all the other categories. But they have average spending habits. \n",
    "\n",
    "Category 1: The Frugal Spender -they could be planning for Kids college fund or retirement or both. They have to be very careful with their money as they likely have more financial responsibilities.  Discount codes, and promos will attract them to spend. \n",
    "\n",
    "Category 2: Implusive Young Buyer/Young Family- they make the most amount of money and spend the most. This group may be starting a family and looking at big commitments like home, cars and enjoy going on vacation. Compared to Category 2 they spend 4.5 more."
   ]
  },
  {
   "cell_type": "markdown",
   "id": "173af4bb",
   "metadata": {},
   "source": [
    "#### Conclusion\n",
    "We have successfully built a K-Means clustering model for customer segmentation. We also explored cluster interpretation, and analyzed the behaviour of individuals in each cluster.\n",
    "\n",
    "Finally, we took a look at some business recommendations that could be provided based on the attributes of each individual in the cluster."
   ]
  },
  {
   "cell_type": "code",
   "execution_count": null,
   "id": "17064b33",
   "metadata": {},
   "outputs": [],
   "source": []
  }
 ],
 "metadata": {
  "kernelspec": {
   "display_name": "Python 3",
   "language": "python",
   "name": "python3"
  },
  "language_info": {
   "codemirror_mode": {
    "name": "ipython",
    "version": 3
   },
   "file_extension": ".py",
   "mimetype": "text/x-python",
   "name": "python",
   "nbconvert_exporter": "python",
   "pygments_lexer": "ipython3",
   "version": "3.8.8"
  }
 },
 "nbformat": 4,
 "nbformat_minor": 5
}
